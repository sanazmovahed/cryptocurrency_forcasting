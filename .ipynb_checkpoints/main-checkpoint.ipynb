{
 "cells": [
  {
   "cell_type": "code",
   "execution_count": 1,
   "id": "35e5dbba",
   "metadata": {},
   "outputs": [],
   "source": [
    "#imported for system and file managing usage\n",
    "import sys\n",
    "\n",
    "import pandas as ps\n",
    "\n",
    "#added to access the modules that placed in sub folder\n",
    "sys.path.append('./modules')\n",
    "\n",
    "#added to read special fucntions\n",
    "from data import *\n",
    "\n",
    "FUTURE_PERIOD_PREDICT = 1\n",
    "\n"
   ]
  },
  {
   "cell_type": "code",
   "execution_count": 2,
   "id": "748e24d2",
   "metadata": {},
   "outputs": [
    {
     "name": "stdout",
     "output_type": "stream",
     "text": [
      "                               unix                 date    symbol      open  \\\n",
      "36901 1970-01-01 00:00:01.502942400     2017-08-17 04-AM  BTC/USDT  16199.91   \n",
      "36900 1970-01-01 00:00:01.502946000     2017-08-17 05-AM  BTC/USDT   4308.83   \n",
      "36899 1970-01-01 00:00:01.502949600     2017-08-17 06-AM  BTC/USDT   4315.32   \n",
      "36898 1970-01-01 00:00:01.502953200     2017-08-17 07-AM  BTC/USDT   4324.35   \n",
      "36897 1970-01-01 00:00:01.502956800     2017-08-17 08-AM  BTC/USDT   4349.99   \n",
      "...                             ...                  ...       ...       ...   \n",
      "5     1970-01-01 00:27:06.289200000  2021-07-14 19:00:00  BTC/USDT  32743.96   \n",
      "4     1970-01-01 00:27:06.292800000  2021-07-14 20:00:00  BTC/USDT  32729.77   \n",
      "3     1970-01-01 00:27:06.296400000  2021-07-14 21:00:00  BTC/USDT  32800.41   \n",
      "2     1970-01-01 00:27:06.300000000  2021-07-14 22:00:00  BTC/USDT  32852.24   \n",
      "1     1970-01-01 00:27:06.303600000  2021-07-14 23:00:00  BTC/USDT  32959.97   \n",
      "\n",
      "           high       low     close   Volume BTC   Volume USDT  tradecount  \\\n",
      "36901  16199.91   4261.32   4308.83    44.510000  1.909529e+05         NaN   \n",
      "36900   4328.69   4291.37   4315.32    23.230000  1.003048e+05         NaN   \n",
      "36899   4345.45   4309.37   4324.35     7.230000  3.128231e+04         NaN   \n",
      "36898   4349.99   4287.41   4349.99     4.440000  1.924106e+04         NaN   \n",
      "36897   4377.85   4333.32   4360.69     0.949900  4.139700e+03         NaN   \n",
      "...         ...       ...       ...          ...           ...         ...   \n",
      "5      32798.62  32564.44  32729.76  1277.374208  4.177431e+07     46916.0   \n",
      "4      32869.58  32708.00  32800.41   875.491942  2.871512e+07     22900.0   \n",
      "3      32940.00  32800.40  32852.23   904.311945  2.971965e+07     36317.0   \n",
      "2      33063.82  32739.28  32959.96  1238.849836  4.079059e+07     31664.0   \n",
      "1      32974.44  32681.00  32820.02  1046.755431  3.435096e+07     24603.0   \n",
      "\n",
      "         future  target Day of Week  Hour of Day  \n",
      "36901   4315.32       1    Thursday            0  \n",
      "36900   4324.35       1    Thursday            0  \n",
      "36899   4349.99       1    Thursday            0  \n",
      "36898   4360.69       1    Thursday            0  \n",
      "36897   4444.00       1    Thursday            0  \n",
      "...         ...     ...         ...          ...  \n",
      "5      32800.41       1    Thursday            0  \n",
      "4      32852.23       1    Thursday            0  \n",
      "3      32959.96       1    Thursday            0  \n",
      "2      32820.02       0    Thursday            0  \n",
      "1           NaN       0    Thursday            0  \n",
      "\n",
      "[36901 rows x 14 columns]\n"
     ]
    }
   ],
   "source": [
    "\n",
    "filePath = '/home/cryptocurrency_Forcasting/dataset/Binance_BTCUSDT_1hour.csv'\n",
    "x_train, y_train, x_validation, y_validation, x_test, y_test = readData(filePath, 20, 20, FUTURE_PERIOD_PREDICT)"
   ]
  },
  {
   "cell_type": "code",
   "execution_count": null,
   "id": "356531f7",
   "metadata": {},
   "outputs": [],
   "source": []
  },
  {
   "cell_type": "code",
   "execution_count": null,
   "id": "e6f18eb8",
   "metadata": {},
   "outputs": [],
   "source": []
  }
 ],
 "metadata": {
  "kernelspec": {
   "display_name": "Python 3",
   "language": "python",
   "name": "python3"
  },
  "language_info": {
   "codemirror_mode": {
    "name": "ipython",
    "version": 3
   },
   "file_extension": ".py",
   "mimetype": "text/x-python",
   "name": "python",
   "nbconvert_exporter": "python",
   "pygments_lexer": "ipython3",
   "version": "3.8.8"
  }
 },
 "nbformat": 4,
 "nbformat_minor": 5
}
