{
 "cells": [
  {
   "cell_type": "code",
   "execution_count": 1,
   "id": "35e5dbba",
   "metadata": {},
   "outputs": [],
   "source": [
    "#imported for system and file managing usage\n",
    "import sys\n",
    "\n",
    "import pandas as ps\n",
    "\n",
    "#added to access the modules that placed in sub folder\n",
    "sys.path.append('./modules')\n",
    "\n",
    "#added to read special fucntions\n",
    "from data import *\n",
    "\n",
    "FUTURE_PERIOD_PREDICT = 1\n",
    "\n"
   ]
  },
  {
   "cell_type": "code",
   "execution_count": 2,
   "id": "748e24d2",
   "metadata": {},
   "outputs": [
    {
     "name": "stdout",
     "output_type": "stream",
     "text": [
      "         open     high      low    close  target\n",
      "1412  4469.93  4485.39  4200.74  4285.08       0\n",
      "1411  4285.08  4371.52  3938.77  4108.37       1\n",
      "1410  4108.37  4184.69  3850.00  4139.98       0\n",
      "1409  4139.98  4211.08  4032.62  4086.29       0\n",
      "1408  4086.29  4119.62  3911.79  4016.00       1\n",
      "...       ...      ...      ...      ...     ...\n",
      "1135  8233.49  8609.00  8163.90  8526.98       0\n",
      "1134  8526.97  8595.31  8305.00  8381.24       0\n",
      "1133  8386.89  8400.18  7935.11  7977.11       0\n",
      "1132  7977.12  8031.90  7425.00  7501.95       1\n",
      "1131  7501.95  7730.73  7266.99  7575.01       0\n",
      "\n",
      "[282 rows x 5 columns]\n",
      "test data summary: \n",
      "         close  target\n",
      "1412  4285.08       0\n",
      "1411  4108.37       1\n",
      "1410  4139.98       0\n",
      "1409  4086.29       0\n",
      "1408  4016.00       1\n",
      "1407  4040.00       1\n",
      "1406  4114.01       1\n",
      "1405  4316.01       0\n",
      "1404  4280.68       1\n",
      "1403  4337.44       0\n",
      "         open     high      low    close  target\n",
      "1130  7578.99  7649.55  7308.15  7457.00       0\n",
      "1129  7456.99  7620.00  7300.00  7333.96       1\n",
      "1128  7334.00  7400.00  7231.11  7338.99       0\n",
      "1127  7338.99  7437.00  7058.02  7099.00       1\n",
      "1126  7099.00  7540.00  7032.95  7461.29       0\n",
      "...       ...      ...      ...      ...     ...\n",
      "853   3828.44  3841.51  3777.00  3809.23       1\n",
      "852   3809.31  3838.85  3677.17  3818.07       0\n",
      "851   3818.04  3888.00  3763.87  3813.69       1\n",
      "850   3814.26  3857.00  3813.01  3823.00       0\n",
      "849   3822.17  3841.31  3772.25  3819.93       0\n",
      "\n",
      "[282 rows x 5 columns]\n",
      "validation data summary: \n",
      "         close  target\n",
      "1130  7457.00       0\n",
      "1129  7333.96       1\n",
      "1128  7338.99       0\n",
      "1127  7099.00       1\n",
      "1126  7461.29       0\n",
      "1125  7375.96       1\n",
      "1124  7485.01       1\n",
      "1123  7521.01       1\n",
      "1122  7640.03       1\n",
      "1121  7714.26       0\n",
      "         open     high       low     close  target\n",
      "848   3819.97   3835.0   3781.32   3807.75       0\n",
      "847   3807.32   3830.0   3670.69   3715.30       1\n",
      "846   3716.10   3877.1   3703.55   3857.73       1\n",
      "845   3857.58   3907.0   3813.09   3861.84       1\n",
      "844   3861.84   3905.4   3840.40   3873.64       0\n",
      "..        ...      ...       ...       ...     ...\n",
      "5    32509.56  34881.0  31683.00  33678.07       1\n",
      "4    33675.07  35298.0  32286.57  34663.09       0\n",
      "3    34663.08  35500.0  31275.00  31584.45       1\n",
      "2    31576.09  32730.0  30151.00  32283.65       1\n",
      "1    32283.65  34749.0  31973.45  34700.34       0\n",
      "\n",
      "[848 rows x 5 columns]\n"
     ]
    }
   ],
   "source": [
    "\n",
    "filePath = '/home/cryptocurrency_Forcasting/dataset/Binance_BTCUSDT_d.csv'\n",
    "x_train, y_train, x_validation, y_validation, x_test, y_test = readData(filePath, 20, 20, FUTURE_PERIOD_PREDICT)"
   ]
  },
  {
   "cell_type": "code",
   "execution_count": null,
   "id": "356531f7",
   "metadata": {},
   "outputs": [],
   "source": []
  }
 ],
 "metadata": {
  "kernelspec": {
   "display_name": "Python 3",
   "language": "python",
   "name": "python3"
  },
  "language_info": {
   "codemirror_mode": {
    "name": "ipython",
    "version": 3
   },
   "file_extension": ".py",
   "mimetype": "text/x-python",
   "name": "python",
   "nbconvert_exporter": "python",
   "pygments_lexer": "ipython3",
   "version": "3.8.8"
  }
 },
 "nbformat": 4,
 "nbformat_minor": 5
}
