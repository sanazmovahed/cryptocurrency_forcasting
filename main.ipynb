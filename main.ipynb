{
 "cells": [
  {
   "cell_type": "code",
   "execution_count": 1,
   "id": "35e5dbba",
   "metadata": {},
   "outputs": [],
   "source": [
    "#imported for system and file managing usage\n",
    "import sys\n",
    "\n",
    "import pandas as ps\n",
    "\n",
    "#added to access the modules that placed in sub folder\n",
    "sys.path.append('./modules')\n",
    "\n",
    "#added to read special fucntions\n",
    "from data import *\n",
    "\n",
    "FUTURE_PERIOD_PREDICT = 1\n",
    "\n"
   ]
  },
  {
   "cell_type": "code",
   "execution_count": 2,
   "id": "748e24d2",
   "metadata": {},
   "outputs": [
    {
     "name": "stdout",
     "output_type": "stream",
     "text": [
      "36901       1502942400\n",
      "36900       1502946000\n",
      "36899       1502949600\n",
      "36898       1502953200\n",
      "36897       1502956800\n",
      "             ...      \n",
      "5        1626289200000\n",
      "4        1626292800000\n",
      "3        1626296400000\n",
      "2        1626300000000\n",
      "1        1626303600000\n",
      "Name: unix, Length: 36901, dtype: int64\n",
      "36901       1502942400\n",
      "36900       1502946000\n",
      "36899       1502949600\n",
      "36898       1502953200\n",
      "36897       1502956800\n",
      "             ...      \n",
      "5        1626289200000\n",
      "4        1626292800000\n",
      "3        1626296400000\n",
      "2        1626300000000\n",
      "1        1626303600000\n",
      "Name: unix, Length: 36901, dtype: int64\n"
     ]
    },
    {
     "data": {
      "text/plain": [
       "36901    Thu Aug 17 04:00:00 2017\n",
       "36900    Thu Aug 17 05:00:00 2017\n",
       "36899    Thu Aug 17 06:00:00 2017\n",
       "36898    Thu Aug 17 07:00:00 2017\n",
       "36897    Thu Aug 17 08:00:00 2017\n",
       "                   ...           \n",
       "5        Wed Jul 14 19:00:00 2021\n",
       "4        Wed Jul 14 20:00:00 2021\n",
       "3        Wed Jul 14 21:00:00 2021\n",
       "2        Wed Jul 14 22:00:00 2021\n",
       "1        Wed Jul 14 23:00:00 2021\n",
       "Name: unix, Length: 36901, dtype: object"
      ]
     },
     "metadata": {},
     "output_type": "display_data"
    },
    {
     "name": "stdout",
     "output_type": "stream",
     "text": [
      "                     unix                 date    symbol      open      high  \\\n",
      "36901 2017-08-17 04:00:00     2017-08-17 04-AM  BTC/USDT  16199.91  16199.91   \n",
      "36900 2017-08-17 05:00:00     2017-08-17 05-AM  BTC/USDT   4308.83   4328.69   \n",
      "36899 2017-08-17 06:00:00     2017-08-17 06-AM  BTC/USDT   4315.32   4345.45   \n",
      "36898 2017-08-17 07:00:00     2017-08-17 07-AM  BTC/USDT   4324.35   4349.99   \n",
      "36897 2017-08-17 08:00:00     2017-08-17 08-AM  BTC/USDT   4349.99   4377.85   \n",
      "...                   ...                  ...       ...       ...       ...   \n",
      "5     2021-07-14 19:00:00  2021-07-14 19:00:00  BTC/USDT  32743.96  32798.62   \n",
      "4     2021-07-14 20:00:00  2021-07-14 20:00:00  BTC/USDT  32729.77  32869.58   \n",
      "3     2021-07-14 21:00:00  2021-07-14 21:00:00  BTC/USDT  32800.41  32940.00   \n",
      "2     2021-07-14 22:00:00  2021-07-14 22:00:00  BTC/USDT  32852.24  33063.82   \n",
      "1     2021-07-14 23:00:00  2021-07-14 23:00:00  BTC/USDT  32959.97  32974.44   \n",
      "\n",
      "            low     close   Volume BTC   Volume USDT  tradecount    future  \\\n",
      "36901   4261.32   4308.83    44.510000  1.909529e+05         NaN   4315.32   \n",
      "36900   4291.37   4315.32    23.230000  1.003048e+05         NaN   4324.35   \n",
      "36899   4309.37   4324.35     7.230000  3.128231e+04         NaN   4349.99   \n",
      "36898   4287.41   4349.99     4.440000  1.924106e+04         NaN   4360.69   \n",
      "36897   4333.32   4360.69     0.949900  4.139700e+03         NaN   4444.00   \n",
      "...         ...       ...          ...           ...         ...       ...   \n",
      "5      32564.44  32729.76  1277.374208  4.177431e+07     46916.0  32800.41   \n",
      "4      32708.00  32800.41   875.491942  2.871512e+07     22900.0  32852.23   \n",
      "3      32800.40  32852.23   904.311945  2.971965e+07     36317.0  32959.96   \n",
      "2      32739.28  32959.96  1238.849836  4.079059e+07     31664.0  32820.02   \n",
      "1      32681.00  32820.02  1046.755431  3.435096e+07     24603.0       NaN   \n",
      "\n",
      "       target Day of Week  Hour of Day  \n",
      "36901       1    Thursday            4  \n",
      "36900       1    Thursday            5  \n",
      "36899       1    Thursday            6  \n",
      "36898       1    Thursday            7  \n",
      "36897       1    Thursday            8  \n",
      "...       ...         ...          ...  \n",
      "5           1   Wednesday           19  \n",
      "4           1   Wednesday           20  \n",
      "3           1   Wednesday           21  \n",
      "2           0   Wednesday           22  \n",
      "1           0   Wednesday           23  \n",
      "\n",
      "[36901 rows x 14 columns]\n"
     ]
    }
   ],
   "source": [
    "\n",
    "filePath = '/home/cryptocurrency_Forcasting/dataset/Binance_BTCUSDT_1hour.csv'\n",
    "x_train, y_train, x_validation, y_validation, x_test, y_test = readData(filePath, 20, 20, FUTURE_PERIOD_PREDICT)"
   ]
  },
  {
   "cell_type": "code",
   "execution_count": 3,
   "id": "356531f7",
   "metadata": {},
   "outputs": [
    {
     "data": {
      "text/plain": [
       "1502942400"
      ]
     },
     "execution_count": 3,
     "metadata": {},
     "output_type": "execute_result"
    }
   ],
   "source": [
    "1502942400"
   ]
  },
  {
   "cell_type": "code",
   "execution_count": 4,
   "id": "e6f18eb8",
   "metadata": {},
   "outputs": [
    {
     "data": {
      "text/plain": [
       "'Thu Aug 17 04:00:00 2017'"
      ]
     },
     "execution_count": 4,
     "metadata": {},
     "output_type": "execute_result"
    }
   ],
   "source": [
    "import time\n",
    "temp=1502942400\n",
    "time.ctime(int(temp))"
   ]
  }
 ],
 "metadata": {
  "kernelspec": {
   "display_name": "Python 3",
   "language": "python",
   "name": "python3"
  },
  "language_info": {
   "codemirror_mode": {
    "name": "ipython",
    "version": 3
   },
   "file_extension": ".py",
   "mimetype": "text/x-python",
   "name": "python",
   "nbconvert_exporter": "python",
   "pygments_lexer": "ipython3",
   "version": "3.8.8"
  }
 },
 "nbformat": 4,
 "nbformat_minor": 5
}
