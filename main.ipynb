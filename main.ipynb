{
 "cells": [
  {
   "cell_type": "code",
   "execution_count": 1,
   "id": "35e5dbba",
   "metadata": {},
   "outputs": [],
   "source": [
    "#imported for system and file managing usage\n",
    "import sys\n",
    "\n",
    "import pandas as ps\n",
    "\n",
    "#added to access the modules that placed in sub folder\n",
    "sys.path.append('./modules')\n",
    "\n",
    "#added to read special fucntions\n",
    "from data import *\n",
    "\n",
    "FUTURE_PERIOD_PREDICT = 1\n",
    "\n"
   ]
  },
  {
   "cell_type": "code",
   "execution_count": 2,
   "id": "748e24d2",
   "metadata": {},
   "outputs": [
    {
     "name": "stdout",
     "output_type": "stream",
     "text": [
      "          open      high       low     close  target Day of Week\n",
      "1412  0.021212  0.019632  0.023373  0.018151       0    Thursday\n",
      "1411  0.018151  0.017783  0.018948  0.015225       1      Friday\n",
      "1410  0.015225  0.014749  0.017448  0.015748       0    Saturday\n",
      "1409  0.015748  0.015177  0.020533  0.014859       0      Sunday\n",
      "1408  0.014859  0.013692  0.018492  0.013695       1      Monday\n",
      "...        ...       ...       ...       ...     ...         ...\n",
      "5     0.485552  0.513248  0.487577  0.504903       1         NaN\n",
      "4     0.504853  0.520019  0.497772  0.521215       0         NaN\n",
      "3     0.521215  0.523300  0.480685  0.470232       1         NaN\n",
      "2     0.470094  0.478316  0.461700  0.481811       1         NaN\n",
      "1     0.481811  0.511104  0.492483  0.521832       0         NaN\n",
      "\n",
      "[1412 rows x 6 columns]\n"
     ]
    }
   ],
   "source": [
    "\n",
    "filePath = '/home/cryptocurrency_Forcasting/dataset/Binance_BTCUSDT_d.csv'\n",
    "x_train, y_train, x_validation, y_validation, x_test, y_test = readData(filePath, 20, 20, FUTURE_PERIOD_PREDICT)"
   ]
  },
  {
   "cell_type": "code",
   "execution_count": null,
   "id": "356531f7",
   "metadata": {},
   "outputs": [],
   "source": []
  }
 ],
 "metadata": {
  "kernelspec": {
   "display_name": "Python 3",
   "language": "python",
   "name": "python3"
  },
  "language_info": {
   "codemirror_mode": {
    "name": "ipython",
    "version": 3
   },
   "file_extension": ".py",
   "mimetype": "text/x-python",
   "name": "python",
   "nbconvert_exporter": "python",
   "pygments_lexer": "ipython3",
   "version": "3.8.8"
  }
 },
 "nbformat": 4,
 "nbformat_minor": 5
}
