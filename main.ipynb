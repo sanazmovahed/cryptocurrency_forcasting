{
 "cells": [
  {
   "cell_type": "code",
   "execution_count": null,
   "id": "35e5dbba",
   "metadata": {},
   "outputs": [
    {
     "name": "stdout",
     "output_type": "stream",
     "text": [
      "checkpoint: <class 'keras.callbacks.ModelCheckpoint'>\n",
      "train_x: <class 'numpy.ndarray'>\n",
      "train_y: <class 'numpy.ndarray'>\n",
      "validation_x: <class 'numpy.ndarray'>\n",
      "validation_y: <class 'numpy.ndarray'>\n",
      "Epoch 1/20\n"
     ]
    }
   ],
   "source": [
    "#imported for system and file managing usage\n",
    "import sys\n",
    "import numpy as np\n",
    "import pandas as ps\n",
    "import tensorflow as tf\n",
    "import tensorflow.keras.optimizers as opt\n",
    "from keras.callbacks import ModelCheckpoint\n",
    "\n",
    "#added to access the modules that placed in sub folder\n",
    "sys.path.append('./modules')\n",
    "\n",
    "#added to read special fucntions\n",
    "from data import *\n",
    "from plotter import *\n",
    "from balanceData import *\n",
    "from divideData import *\n",
    "from models.gru.gru import *\n",
    "from models.lstm.lstm import *\n",
    "from models.rnn.rnn import *\n",
    "\n",
    "\n",
    "# Define some parameters\n",
    "FUTURE_PERIOD_PREDICT = 1\n",
    "SEQ_LEN = 20\n",
    "validation_percent = 15\n",
    "test_percent = 20\n",
    "EPOCHS = 20\n",
    "BATCH_SIZE = 256\n",
    "\n",
    "\n",
    "filePath = '/home/cryptocurrency_Forcasting/dataset/Binance_BTCUSDT_1hour.csv'\n",
    "\n",
    "# Read the data from .csv\n",
    "data = readData(filePath, FUTURE_PERIOD_PREDICT)\n",
    "\n",
    "# divide data to train, validation, test sets \n",
    "train_data, validation_data, test_data = divide_data(data, validation_percent, test_percent)\n",
    "\n",
    "# Select equal number of samples with all labels\n",
    "x_train, y_train = balance_data(train_data, SEQ_LEN)\n",
    "x_validation, y_validation = balance_data(validation_data, SEQ_LEN)\n",
    "x_test, y_test = balance_data(test_data, SEQ_LEN)\n",
    "\n",
    "# Create the model\n",
    "model = lstm(x_train)\n",
    "\n",
    "# Select an optimizer\n",
    "opt = opt.Adam(learning_rate=0.001, decay=1e-6)\n",
    "\n",
    "# Compile the model\n",
    "model.compile(loss='sparse_categorical_crossentropy',\n",
    "             optimizer = opt,\n",
    "             metrics= ['accuracy'])\n",
    "\n",
    "checkpoint = ModelCheckpoint(\"models/{}.model\".format(f\"RNN_Final-{1}\"), monitor='val_acc', verbose=1, save_best_only=True, mode='max')\n",
    "\n",
    "\n",
    "print('checkpoint:',  type(checkpoint))\n",
    "print('train_x:',      type(x_train))\n",
    "print('train_y:',      type(y_train))\n",
    "print('validation_x:', type(x_validation))\n",
    "print('validation_y:', type(y_validation))\n",
    "\n",
    "\n",
    "history = model.fit(x_train, y_train, batch_size=BATCH_SIZE, epochs=EPOCHS, validation_data=(x_validation, y_validation), callbacks= checkpoint)\n",
    "\n",
    "# Plot the model's accuracy and loss\n",
    "p = plotter(history)\n"
   ]
  }
 ],
 "metadata": {
  "kernelspec": {
   "display_name": "Python 3",
   "language": "python",
   "name": "python3"
  },
  "language_info": {
   "codemirror_mode": {
    "name": "ipython",
    "version": 3
   },
   "file_extension": ".py",
   "mimetype": "text/x-python",
   "name": "python",
   "nbconvert_exporter": "python",
   "pygments_lexer": "ipython3",
   "version": "3.8.8"
  }
 },
 "nbformat": 4,
 "nbformat_minor": 5
}
