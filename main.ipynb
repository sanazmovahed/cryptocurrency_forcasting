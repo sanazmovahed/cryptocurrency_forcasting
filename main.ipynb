{
 "cells": [
  {
   "cell_type": "code",
   "execution_count": 1,
   "id": "35e5dbba",
   "metadata": {},
   "outputs": [],
   "source": [
    "#imported for system and file managing usage\n",
    "import sys\n",
    "\n",
    "import pandas as ps\n",
    "\n",
    "#added to access the modules that placed in sub folder\n",
    "sys.path.append('./modules')\n",
    "\n",
    "#added to read special fucntions\n",
    "from data import *\n",
    "from balanceData import *\n",
    "from divideData import *\n",
    "\n",
    "FUTURE_PERIOD_PREDICT = 1\n",
    "SEQ_LEN = 20\n",
    "validation_percent = 15\n",
    "test_percent = 20\n",
    "\n"
   ]
  },
  {
   "cell_type": "code",
   "execution_count": 2,
   "id": "748e24d2",
   "metadata": {},
   "outputs": [
    {
     "name": "stdout",
     "output_type": "stream",
     "text": [
      "<class 'pandas.core.frame.DataFrame'>\n",
      "RangeIndex: 36901 entries, 36901 to 1\n",
      "Data columns (total 14 columns):\n",
      " #   Column       Non-Null Count  Dtype         \n",
      "---  ------       --------------  -----         \n",
      " 0   unix         36901 non-null  datetime64[ns]\n",
      " 1   date         36901 non-null  object        \n",
      " 2   symbol       36901 non-null  object        \n",
      " 3   open         36901 non-null  float64       \n",
      " 4   high         36901 non-null  float64       \n",
      " 5   low          36901 non-null  float64       \n",
      " 6   close        36901 non-null  float64       \n",
      " 7   Volume BTC   36901 non-null  float64       \n",
      " 8   Volume USDT  36901 non-null  float64       \n",
      " 9   tradecount   8317 non-null   float64       \n",
      " 10  future       36900 non-null  float64       \n",
      " 11  target       36901 non-null  int64         \n",
      " 12  Day of Week  36901 non-null  int64         \n",
      " 13  Hour of Day  36901 non-null  int64         \n",
      "dtypes: datetime64[ns](1), float64(8), int64(3), object(2)\n",
      "memory usage: 3.9+ MB\n",
      "                     unix                 date    symbol      open      high  \\\n",
      "36901 2017-08-17 04:00:00     2017-08-17 04-AM  BTC/USDT  16199.91  16199.91   \n",
      "36900 2017-08-17 05:00:00     2017-08-17 05-AM  BTC/USDT   4308.83   4328.69   \n",
      "36899 2017-08-17 06:00:00     2017-08-17 06-AM  BTC/USDT   4315.32   4345.45   \n",
      "36898 2017-08-17 07:00:00     2017-08-17 07-AM  BTC/USDT   4324.35   4349.99   \n",
      "36897 2017-08-17 08:00:00     2017-08-17 08-AM  BTC/USDT   4349.99   4377.85   \n",
      "...                   ...                  ...       ...       ...       ...   \n",
      "5     2021-07-14 19:00:00  2021-07-14 19:00:00  BTC/USDT  32743.96  32798.62   \n",
      "4     2021-07-14 20:00:00  2021-07-14 20:00:00  BTC/USDT  32729.77  32869.58   \n",
      "3     2021-07-14 21:00:00  2021-07-14 21:00:00  BTC/USDT  32800.41  32940.00   \n",
      "2     2021-07-14 22:00:00  2021-07-14 22:00:00  BTC/USDT  32852.24  33063.82   \n",
      "1     2021-07-14 23:00:00  2021-07-14 23:00:00  BTC/USDT  32959.97  32974.44   \n",
      "\n",
      "            low     close   Volume BTC   Volume USDT  tradecount    future  \\\n",
      "36901   4261.32   4308.83    44.510000  1.909529e+05         NaN   4315.32   \n",
      "36900   4291.37   4315.32    23.230000  1.003048e+05         NaN   4324.35   \n",
      "36899   4309.37   4324.35     7.230000  3.128231e+04         NaN   4349.99   \n",
      "36898   4287.41   4349.99     4.440000  1.924106e+04         NaN   4360.69   \n",
      "36897   4333.32   4360.69     0.949900  4.139700e+03         NaN   4444.00   \n",
      "...         ...       ...          ...           ...         ...       ...   \n",
      "5      32564.44  32729.76  1277.374208  4.177431e+07     46916.0  32800.41   \n",
      "4      32708.00  32800.41   875.491942  2.871512e+07     22900.0  32852.23   \n",
      "3      32800.40  32852.23   904.311945  2.971965e+07     36317.0  32959.96   \n",
      "2      32739.28  32959.96  1238.849836  4.079059e+07     31664.0  32820.02   \n",
      "1      32681.00  32820.02  1046.755431  3.435096e+07     24603.0       NaN   \n",
      "\n",
      "       target  Day of Week  Hour of Day  \n",
      "36901       1            3            4  \n",
      "36900       1            3            5  \n",
      "36899       1            3            6  \n",
      "36898       1            3            7  \n",
      "36897       1            3            8  \n",
      "...       ...          ...          ...  \n",
      "5           1            2           19  \n",
      "4           1            2           20  \n",
      "3           1            2           21  \n",
      "2           0            2           22  \n",
      "1           0            2           23  \n",
      "\n",
      "[36901 rows x 14 columns] None\n",
      "prev_days: deque([], maxlen=20)\n",
      "prev_days: deque([], maxlen=20)\n",
      "prev_days: deque([], maxlen=20)\n"
     ]
    }
   ],
   "source": [
    "\n",
    "filePath = '/home/cryptocurrency_Forcasting/dataset/Binance_BTCUSDT_1hour.csv'\n",
    "data = readData(filePath, FUTURE_PERIOD_PREDICT)\n",
    "train_data, validation_data, test_data = divide_data(data, validation_percent, test_percent)\n",
    "\n",
    "x_train, y_train = balance_data(train_data, SEQ_LEN)\n",
    "x_validation, y_validation = balance_data(validation_data, SEQ_LEN)\n",
    "x_test, y_test = balance_data(test_data, SEQ_LEN)\n"
   ]
  },
  {
   "cell_type": "code",
   "execution_count": null,
   "id": "356531f7",
   "metadata": {},
   "outputs": [],
   "source": []
  },
  {
   "cell_type": "code",
   "execution_count": null,
   "id": "e6f18eb8",
   "metadata": {},
   "outputs": [],
   "source": []
  }
 ],
 "metadata": {
  "kernelspec": {
   "display_name": "Python 3",
   "language": "python",
   "name": "python3"
  },
  "language_info": {
   "codemirror_mode": {
    "name": "ipython",
    "version": 3
   },
   "file_extension": ".py",
   "mimetype": "text/x-python",
   "name": "python",
   "nbconvert_exporter": "python",
   "pygments_lexer": "ipython3",
   "version": "3.8.8"
  }
 },
 "nbformat": 4,
 "nbformat_minor": 5
}
