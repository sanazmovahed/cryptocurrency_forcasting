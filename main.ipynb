{
 "cells": [
  {
   "cell_type": "code",
   "execution_count": 1,
   "id": "35e5dbba",
   "metadata": {},
   "outputs": [],
   "source": [
    "#imported for system and file managing usage\n",
    "import sys\n",
    "\n",
    "import pandas as ps\n",
    "\n",
    "#added to access the modules that placed in sub folder\n",
    "sys.path.append('./modules')\n",
    "\n",
    "#added to read special fucntions\n",
    "from data import *\n",
    "\n",
    "FUTURE_PERIOD_PREDICT = 1\n",
    "\n"
   ]
  },
  {
   "cell_type": "code",
   "execution_count": 2,
   "id": "748e24d2",
   "metadata": {},
   "outputs": [
    {
     "name": "stdout",
     "output_type": "stream",
     "text": [
      "           unix            date    symbol      open      high       low  \\\n",
      "1412 2017-08-17       8/17/2017  BTC/USDT   4469.93   4485.39   4200.74   \n",
      "1411 2017-08-18       8/18/2017  BTC/USDT   4285.08   4371.52   3938.77   \n",
      "1410 2017-08-19       8/19/2017  BTC/USDT   4108.37   4184.69   3850.00   \n",
      "1409 2017-08-20       8/20/2017  BTC/USDT   4139.98   4211.08   4032.62   \n",
      "1408 2017-08-21       8/21/2017  BTC/USDT   4086.29   4119.62   3911.79   \n",
      "...         ...             ...       ...       ...       ...       ...   \n",
      "5    2021-06-23  6/23/2021 0:00  BTC/USDT  32509.56  34881.00  31683.00   \n",
      "4    2021-06-24  6/24/2021 0:00  BTC/USDT  33675.07  35298.00  32286.57   \n",
      "3    2021-06-25  6/25/2021 0:00  BTC/USDT  34663.08  35500.00  31275.00   \n",
      "2    2021-06-26  6/26/2021 0:00  BTC/USDT  31576.09  32730.00  30151.00   \n",
      "1    2021-06-27  6/27/2021 0:00  BTC/USDT  32283.65  34749.00  31973.45   \n",
      "\n",
      "         close    Volume BTC   Volume USDT  tradecount    future  target  \\\n",
      "1412   4285.08     647.86000  2.812379e+06         NaN   4108.37       0   \n",
      "1411   4108.37    1178.07000  4.994494e+06         NaN   4139.98       1   \n",
      "1410   4139.98     371.15000  1.508239e+06         NaN   4086.29       0   \n",
      "1409   4086.29     463.54000  1.915636e+06         NaN   4016.00       0   \n",
      "1408   4016.00     685.12000  2.770592e+06         NaN   4040.00       1   \n",
      "...        ...           ...           ...         ...       ...     ...   \n",
      "5     33678.07  126966.10060  4.282250e+09   2026228.0  34663.09       1   \n",
      "4     34663.09   86625.80426  2.925373e+09   1531230.0  31584.45       0   \n",
      "3     31584.45  116061.13040  3.846121e+09   2094932.0  32283.65       1   \n",
      "2     32283.65  107820.37530  3.376415e+09   1814051.0  34700.34       1   \n",
      "1     34700.34   96613.24421  3.199980e+09   1799875.0       NaN       0   \n",
      "\n",
      "     Day of Week  \n",
      "1412    Thursday  \n",
      "1411      Friday  \n",
      "1410    Saturday  \n",
      "1409      Sunday  \n",
      "1408      Monday  \n",
      "...          ...  \n",
      "5      Wednesday  \n",
      "4       Thursday  \n",
      "3         Friday  \n",
      "2       Saturday  \n",
      "1         Sunday  \n",
      "\n",
      "[1412 rows x 13 columns]\n"
     ]
    }
   ],
   "source": [
    "\n",
    "filePath = '/home/cryptocurrency_Forcasting/dataset/Binance_BTCUSDT_d.csv'\n",
    "x_train, y_train, x_validation, y_validation, x_test, y_test = readData(filePath, 20, 20, FUTURE_PERIOD_PREDICT)"
   ]
  },
  {
   "cell_type": "code",
   "execution_count": null,
   "id": "356531f7",
   "metadata": {},
   "outputs": [],
   "source": []
  },
  {
   "cell_type": "code",
   "execution_count": null,
   "id": "d724cae8",
   "metadata": {},
   "outputs": [],
   "source": []
  }
 ],
 "metadata": {
  "kernelspec": {
   "display_name": "Python 3",
   "language": "python",
   "name": "python3"
  },
  "language_info": {
   "codemirror_mode": {
    "name": "ipython",
    "version": 3
   },
   "file_extension": ".py",
   "mimetype": "text/x-python",
   "name": "python",
   "nbconvert_exporter": "python",
   "pygments_lexer": "ipython3",
   "version": "3.8.8"
  }
 },
 "nbformat": 4,
 "nbformat_minor": 5
}
